{
 "cells": [
  {
   "cell_type": "markdown",
   "id": "8eff2f7b",
   "metadata": {},
   "source": [
    "### What are Data Types?\n",
    "\n",
    "Data types specify the kind of value a variable can hold in a programming language. They define the operations that can be performed on the data and the way the data is stored.\n",
    "\n",
    "#### Common Data Types in Python\n",
    "\n",
    "- **int**: Integer numbers (e.g., `5`, `-10`)\n",
    "- **float**: Floating-point numbers (e.g., `3.14`, `-0.001`)\n",
    "- **str**: String (sequence of characters, e.g., `\"hello\"`)\n",
    "- **bool**: Boolean values (`True` or `False`)\n",
    "- **list**: Ordered, mutable collection (e.g., `[1, 2, 3]`)\n",
    "- **tuple**: Ordered, immutable collection (e.g., `(1, 2, 3)`)\n",
    "- **dict**: Key-value pairs (e.g., `{\"name\": \"Alice\", \"age\": 25}`)\n",
    "- **set**: Unordered collection of unique elements (e.g., `{1, 2, 3}`)\n",
    "- **NoneType**: Represents the absence of a value (`None`)\n",
    "\n",
    "- **object**: Any type of object (Java, C#, Python)\n",
    "\n",
    "Data types are fundamental to programming and help ensure that data is used correctly and efficiently."
   ]
  },
  {
   "cell_type": "code",
   "execution_count": 1,
   "id": "88ea97e3",
   "metadata": {},
   "outputs": [
    {
     "data": {
      "text/plain": [
       "int"
      ]
     },
     "execution_count": 1,
     "metadata": {},
     "output_type": "execute_result"
    }
   ],
   "source": [
    "## Integers\n",
    "age =45\n",
    "type(age)"
   ]
  },
  {
   "cell_type": "code",
   "execution_count": 2,
   "id": "1bffea6a",
   "metadata": {},
   "outputs": [
    {
     "data": {
      "text/plain": [
       "float"
      ]
     },
     "execution_count": 2,
     "metadata": {},
     "output_type": "execute_result"
    }
   ],
   "source": [
    "## float\n",
    "marks = 98.78\n",
    "type(marks)"
   ]
  },
  {
   "cell_type": "code",
   "execution_count": 3,
   "id": "f98db3b6",
   "metadata": {},
   "outputs": [
    {
     "data": {
      "text/plain": [
       "str"
      ]
     },
     "execution_count": 3,
     "metadata": {},
     "output_type": "execute_result"
    }
   ],
   "source": [
    "## String\n",
    "name = \"priya\"\n",
    "type(name)"
   ]
  },
  {
   "cell_type": "code",
   "execution_count": 5,
   "id": "379f4526",
   "metadata": {},
   "outputs": [
    {
     "data": {
      "text/plain": [
       "bool"
      ]
     },
     "execution_count": 5,
     "metadata": {},
     "output_type": "execute_result"
    }
   ],
   "source": [
    "#boolean\n",
    "is_student = True\n",
    "type(is_student)\n",
    "a=10\n",
    "b=10\n",
    "type(a==b)"
   ]
  },
  {
   "cell_type": "code",
   "execution_count": 7,
   "id": "691059ea",
   "metadata": {},
   "outputs": [
    {
     "name": "stdout",
     "output_type": "stream",
     "text": [
      "15.5\n",
      "hello5\n"
     ]
    }
   ],
   "source": [
    "# common errors\n",
    "# result = \"hello\" + 5 # TypeError: can only concatenate str (not \"int\") to str\n",
    "# result = 10 + \"5\" # TypeError: unsupported operand type(s) for +: 'int' and 'str'\n",
    "# result = 10 + 5.5 # This will not raise an error; the result will be 15.5 (float)\n",
    "# Uncommenting the above lines will raise errors\n",
    "res = 10 + 5.5\n",
    "print(res)\n",
    "res = \"hello\" + str(5)  # This will work, converting the integer to a string\n",
    "print(res)\n",
    "# You are able to do 10 + 5.5 because Python supports addition between an integer (int) and a floating-point number (float).\n",
    "# The result will be a float (15.5). Python automatically converts the int to a float before performing the addition.\n",
    "# You only get a TypeError when you try to add incompatible types, like an int and a str."
   ]
  },
  {
   "cell_type": "code",
   "execution_count": null,
   "id": "77e92777",
   "metadata": {},
   "outputs": [],
   "source": []
  }
 ],
 "metadata": {
  "kernelspec": {
   "display_name": "Python 3",
   "language": "python",
   "name": "python3"
  },
  "language_info": {
   "codemirror_mode": {
    "name": "ipython",
    "version": 3
   },
   "file_extension": ".py",
   "mimetype": "text/x-python",
   "name": "python",
   "nbconvert_exporter": "python",
   "pygments_lexer": "ipython3",
   "version": "3.12.0"
  }
 },
 "nbformat": 4,
 "nbformat_minor": 5
}
