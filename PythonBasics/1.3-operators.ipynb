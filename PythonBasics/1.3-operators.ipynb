{
 "cells": [
  {
   "cell_type": "markdown",
   "id": "1762cc2c",
   "metadata": {},
   "source": [
    "### Operators in Python\n",
    "\n",
    "Operators in Python are special symbols or keywords used to perform operations on variables and values. Python supports several types of operators:\n",
    "\n",
    "#### 1. Arithmetic Operators\n",
    "Used for mathematical operations:\n",
    "- `+` Addition\n",
    "- `-` Subtraction\n",
    "- `*` Multiplication\n",
    "- `/` Division\n",
    "- `//` Floor Division\n",
    "- `%` Modulus\n",
    "- `**` Exponentiation\n",
    "\n",
    "#### 2. Comparison Operators\n",
    "Used to compare values:\n",
    "- `==` Equal to\n",
    "- `!=` Not equal to\n",
    "- `>` Greater than\n",
    "- `<` Less than\n",
    "- `>=` Greater than or equal to\n",
    "- `<=` Less than or equal to\n",
    "\n",
    "#### 3. Assignment Operators\n",
    "Used to assign values to variables:\n",
    "- `=` Assign\n",
    "- `+=` Add and assign\n",
    "- `-=` Subtract and assign\n",
    "- `*=` Multiply and assign\n",
    "- `/=` Divide and assign\n",
    "- `//=` Floor divide and assign\n",
    "- `%=` Modulus and assign\n",
    "- `**=` Exponentiate and assign\n",
    "\n",
    "#### 4. Logical Operators\n",
    "Used to combine conditional statements:\n",
    "- `and` Logical AND\n",
    "- `or` Logical OR\n",
    "- `not` Logical NOT\n",
    "\n",
    "#### 5. Bitwise Operators\n",
    "Used to perform bit-level operations:\n",
    "- `&` AND\n",
    "- `|` OR\n",
    "- `^` XOR\n",
    "- `~` NOT\n",
    "- `<<` Left shift\n",
    "- `>>` Right shift\n",
    "\n",
    "#### 6. Membership Operators\n",
    "Used to test membership in a sequence:\n",
    "- `in`\n",
    "- `not in`\n",
    "\n",
    "#### 7. Identity Operators\n",
    "Used to compare objects:\n",
    "- `is`\n",
    "- `is not`\n",
    "\n",
    "Operators help in writing concise and readable code for various operations in Python."
   ]
  },
  {
   "cell_type": "code",
   "execution_count": null,
   "id": "29ef116a",
   "metadata": {},
   "outputs": [
    {
     "name": "stdout",
     "output_type": "stream",
     "text": [
      "30\n",
      "-10\n",
      "200\n",
      "2.0\n",
      "2\n",
      "10\n",
      "100000000000000000000\n"
     ]
    }
   ],
   "source": [
    "# arithmetic operations\n",
    "a = 10\n",
    "b = 20\n",
    "print(a+b) # addition\n",
    "print(a-b) # subtraction\n",
    "print(a*b) # multiplication\n",
    "print(b/a) # division\n",
    "print(b//a) # floor division removes the decimal part from the division result\n",
    "print(a%b) # modulus\n",
    "print(a**b) # exponentiation\n"
   ]
  },
  {
   "cell_type": "code",
   "execution_count": 4,
   "id": "752fbbb2",
   "metadata": {},
   "outputs": [
    {
     "name": "stdout",
     "output_type": "stream",
     "text": [
      "True\n",
      "False\n",
      "False\n",
      "False\n",
      "True\n",
      "True\n"
     ]
    }
   ],
   "source": [
    "# comparison operations\n",
    "a =10\n",
    "b =10\n",
    "print(a==b) # equal to\n",
    "print(a!=b) # not equal to\n",
    "print(a>b) # greater than\n",
    "print(a<b) # less than\n",
    "print(a>=b) # greater than or equal to\n",
    "print(a<=b) # less than or equal to\n"
   ]
  },
  {
   "cell_type": "code",
   "execution_count": 7,
   "id": "e40abc35",
   "metadata": {},
   "outputs": [
    {
     "name": "stdout",
     "output_type": "stream",
     "text": [
      "True\n",
      "True\n"
     ]
    }
   ],
   "source": [
    "print(\"a\" < \"b\") # comparing strings based on lexicographical order\n",
    "print(\"apple\" < \"banana\") # comparing strings based on lexicographical order"
   ]
  },
  {
   "cell_type": "code",
   "execution_count": 8,
   "id": "49881f3e",
   "metadata": {},
   "outputs": [
    {
     "name": "stdout",
     "output_type": "stream",
     "text": [
      "False\n",
      "True\n",
      "False\n"
     ]
    }
   ],
   "source": [
    "# logical operators\n",
    "## and , not , or\n",
    "a = True\n",
    "b = False\n",
    "print(a and b) # returns True if both a and b are True\n",
    "print(a or b) # returns True if either a or b is True\n",
    "print(not a) # returns True if a is False, and vice versa"
   ]
  },
  {
   "cell_type": "code",
   "execution_count": null,
   "id": "b112960a",
   "metadata": {},
   "outputs": [],
   "source": []
  }
 ],
 "metadata": {
  "kernelspec": {
   "display_name": "Python 3",
   "language": "python",
   "name": "python3"
  },
  "language_info": {
   "codemirror_mode": {
    "name": "ipython",
    "version": 3
   },
   "file_extension": ".py",
   "mimetype": "text/x-python",
   "name": "python",
   "nbconvert_exporter": "python",
   "pygments_lexer": "ipython3",
   "version": "3.12.0"
  }
 },
 "nbformat": 4,
 "nbformat_minor": 5
}
