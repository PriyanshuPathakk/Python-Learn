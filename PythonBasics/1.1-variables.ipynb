{
 "cells": [
  {
   "cell_type": "markdown",
   "id": "5df24d47",
   "metadata": {},
   "source": [
    "# Documentation Comment\n",
    "\n",
    "Defines a variable in Python by assigning a value to a name using the assignment operator (`=`). \n",
    "Variables in Python do not require explicit declaration of type; the type is inferred from the assigned value.\n",
    "Example:"
   ]
  },
  {
   "cell_type": "markdown",
   "id": "37f0d12f",
   "metadata": {},
   "source": []
  },
  {
   "cell_type": "code",
   "execution_count": 1,
   "id": "78a26281",
   "metadata": {},
   "outputs": [
    {
     "name": "stdout",
     "output_type": "stream",
     "text": [
      "Age: 25\n",
      "name: Alice\n"
     ]
    }
   ],
   "source": [
    "# declaring and Assigning variables\n",
    "age = 25\n",
    "name = \"Alice\"  # string variable\n",
    "height = 5.5  # float variable\n",
    "is_student = True  # boolean variable\n",
    "\n",
    "# printing the variables\n",
    "print(\"Age:\", age)\n",
    "print(\"name:\", name) "
   ]
  },
  {
   "cell_type": "code",
   "execution_count": null,
   "id": "4099ee04",
   "metadata": {},
   "outputs": [],
   "source": [
    " ## naming conventions\n",
    "# Variable names should be descriptive and follow naming conventions.\n",
    "# they should start with a letter or underscore, followed by letters, numbers, or underscores.\n",
    "\n",
    "# Examples of valid variable names:\n",
    "first_name = \"krishna\"\n",
    "last_name = \"yadav\"\n",
    "age = 30\n",
    "\n",
    "# Examples of invalid variable names:\n",
    "# 1st_name = \"John\"  # cannot start with a number\n",
    "# last-name = \"Doe\"  # cannot contain hyphens\n",
    "# my name = \"Alice\"  # cannot contain spaces\n",
    "\n",
    "# Variable names are case-sensitive, so `age` and `Age` are different variables.\n",
    "# It's a good practice to use lowercase letters and underscores for variable names (snake_case)."
   ]
  },
  {
   "cell_type": "code",
   "execution_count": null,
   "id": "f1cbdf71",
   "metadata": {},
   "outputs": [],
   "source": [
    "# variable types\n",
    "# python is dynamically typed , meaning type of a variable is determined at runtime.\n",
    "# You can change the type of a variable by reassigning it.\n",
    "# Example:\n",
    "x = 10  # x is an integer\n",
    "x = \"Hello\"  # now x is a string\n"
   ]
  },
  {
   "cell_type": "code",
   "execution_count": null,
   "id": "a7545caf",
   "metadata": {},
   "outputs": [],
   "source": [
    "#type checking and conversion\n",
    "# You can check the type of a variable using the `type()` function.\n",
    "age = 45\n",
    "print(type(age))  # Output: <class 'int'>\n",
    "\n",
    "#type conversion\n",
    "# You can convert between different types using built-in functions like `int()`, `float()`, and `str()`.\n",
    "age_str = str(age)  # convert integer to string\n",
    "print(type(age_str))"
   ]
  },
  {
   "cell_type": "code",
   "execution_count": null,
   "id": "f97620ce",
   "metadata": {},
   "outputs": [],
   "source": [
    "# Dynamic Typing\n",
    "# Python is dynamically typed, meaning you can change the type of a variable at runtime.\n",
    "x = 10  # x is an integer\n",
    "print(type(x))  # Output: <class 'int'> \n",
    "x = \"Hello\"  # now x is a string\n",
    "print(type(x))  # Output: <class 'str'>"
   ]
  },
  {
   "cell_type": "code",
   "execution_count": 3,
   "id": "1abdb317",
   "metadata": {},
   "outputs": [
    {
     "name": "stdout",
     "output_type": "stream",
     "text": [
      "19 <class 'str'>\n"
     ]
    }
   ],
   "source": [
    "## input from user\n",
    "# You can take input from the user using the `input()` function.\n",
    "age = input(\"enter your age : \")\n",
    "print(age , type(age)) # Output: <class 'str'>, since input() returns a string"
   ]
  }
 ],
 "metadata": {
  "kernelspec": {
   "display_name": "Python 3",
   "language": "python",
   "name": "python3"
  },
  "language_info": {
   "codemirror_mode": {
    "name": "ipython",
    "version": 3
   },
   "file_extension": ".py",
   "mimetype": "text/x-python",
   "name": "python",
   "nbconvert_exporter": "python",
   "pygments_lexer": "ipython3",
   "version": "3.12.0"
  }
 },
 "nbformat": 4,
 "nbformat_minor": 5
}
