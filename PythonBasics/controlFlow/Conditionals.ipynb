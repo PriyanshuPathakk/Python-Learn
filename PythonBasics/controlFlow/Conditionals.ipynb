{
 "cells": [
  {
   "cell_type": "markdown",
   "id": "858a872b",
   "metadata": {},
   "source": [
    "## Conditional Statements in Python\n",
    "\n",
    "Conditional statements allow you to execute certain blocks of code based on specific conditions. The main conditional statements in Python are:\n",
    "\n",
    "- **if**: Executes a block of code if a condition is true.\n",
    "- **elif**: (short for \"else if\") Checks another condition if the previous ones are false.\n",
    "- **else**: Executes a block of code if all previous conditions are false.\n",
    "\n",
    "**Indentation** is important in Python to define the blocks of code under each condition."
   ]
  },
  {
   "cell_type": "code",
   "execution_count": 1,
   "id": "39ea98ae",
   "metadata": {},
   "outputs": [
    {
     "name": "stdout",
     "output_type": "stream",
     "text": [
      "You are an adult\n"
     ]
    }
   ],
   "source": [
    "# if statement\n",
    "age = 20\n",
    "if age >= 18 :\n",
    "    print(\"You are an adult\")"
   ]
  },
  {
   "cell_type": "code",
   "execution_count": 2,
   "id": "1f02d5fe",
   "metadata": {},
   "outputs": [
    {
     "name": "stdout",
     "output_type": "stream",
     "text": [
      "You are a minor\n"
     ]
    }
   ],
   "source": [
    "## else statement\n",
    "# else will execute when the if condition is false\n",
    "age = 16\n",
    "if age>= 18:\n",
    "    print(\"You are an Adult\")\n",
    "else:\n",
    "    print(\"You are a minor\")    "
   ]
  },
  {
   "cell_type": "code",
   "execution_count": 3,
   "id": "d61f073e",
   "metadata": {},
   "outputs": [
    {
     "name": "stdout",
     "output_type": "stream",
     "text": [
      "You are an adult\n"
     ]
    }
   ],
   "source": [
    "## elif statement\n",
    "# elif is used to check multiple conditions \n",
    "age = 20\n",
    "if age < 18:    \n",
    "    print(\"You are a minor\")    \n",
    "elif age < 60:\n",
    "    print(\"You are an adult\")\n",
    "elif age < 100:\n",
    "    print(\"You are a senior citizen\")"
   ]
  },
  {
   "cell_type": "code",
   "execution_count": 14,
   "id": "d4ab58c3",
   "metadata": {},
   "outputs": [
    {
     "name": "stdout",
     "output_type": "stream",
     "text": [
      "Odd Number\n"
     ]
    }
   ],
   "source": [
    "## nested conditionals\n",
    "# nested conditionals are used to check conditions inside another condition\n",
    "num = int(input(\"Enter a number:\"))\n",
    "if(num<0):\n",
    "    print(\"Negative number\")\n",
    "else:\n",
    "    if(num%2 == 0):\n",
    "        print(\"Even Number\")  \n",
    "    else:\n",
    "        print(\"Odd Number\")      "
   ]
  },
  {
   "cell_type": "code",
   "execution_count": 16,
   "id": "40f7dc5b",
   "metadata": {},
   "outputs": [
    {
     "name": "stdout",
     "output_type": "stream",
     "text": [
      "2099 is not a Leap year\n"
     ]
    }
   ],
   "source": [
    "# to check if an year is a leap year or not\n",
    "year = int(input(\"Enter a year:\"))\n",
    "if year % 400 == 0:\n",
    "    print(year , \"is a leap year\")\n",
    "elif year % 100 == 0 :\n",
    "    print(year ,\"is not a Leap year\")  \n",
    "elif year % 4 == 0:\n",
    "    print(year,\"is a Leap year\")  \n",
    "else:\n",
    "    print(year,\"is not a Leap year\")        "
   ]
  },
  {
   "cell_type": "markdown",
   "id": "c2b96d5d",
   "metadata": {},
   "source": []
  },
  {
   "cell_type": "code",
   "execution_count": null,
   "id": "91f8d950",
   "metadata": {},
   "outputs": [],
   "source": []
  }
 ],
 "metadata": {
  "kernelspec": {
   "display_name": "Python 3",
   "language": "python",
   "name": "python3"
  },
  "language_info": {
   "codemirror_mode": {
    "name": "ipython",
    "version": 3
   },
   "file_extension": ".py",
   "mimetype": "text/x-python",
   "name": "python",
   "nbconvert_exporter": "python",
   "pygments_lexer": "ipython3",
   "version": "3.12.0"
  }
 },
 "nbformat": 4,
 "nbformat_minor": 5
}
