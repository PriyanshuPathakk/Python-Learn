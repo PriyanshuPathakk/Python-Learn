{
 "cells": [
  {
   "cell_type": "markdown",
   "id": "753b67a4",
   "metadata": {},
   "source": [
    "# Loops in Python\n",
    "\n",
    "Loops are used in Python to execute a block of code repeatedly. There are two main types of loops:\n",
    "\n",
    "## 1. `for` Loop\n",
    "\n",
    "The `for` loop is used to iterate over a sequence (such as a list, tuple, dictionary, set, or string).\n",
    "\n",
    "## 2. `while` Loop\n",
    "\n",
    "The `while` loop repeats as long as a condition is `True`.\n",
    "\n",
    "## Loop Control Statements\n",
    "\n",
    "- `break`: Exits the loop prematurely.\n",
    "- `continue`: Skips the current iteration and moves to the next.\n",
    "- `pass`: Does nothing; acts as a placeholder.\n",
    "\n",
    "Loops are essential for automating repetitive tasks in Python."
   ]
  },
  {
   "cell_type": "code",
   "execution_count": 1,
   "id": "45f48926",
   "metadata": {},
   "outputs": [
    {
     "name": "stdout",
     "output_type": "stream",
     "text": [
      "0\n",
      "1\n",
      "2\n",
      "3\n",
      "4\n"
     ]
    }
   ],
   "source": [
    "## for loop\n",
    "for i in range(5): # range(5) generates numbers from 0 to 4\n",
    "    print(i)"
   ]
  },
  {
   "cell_type": "code",
   "execution_count": 5,
   "id": "f276d1e0",
   "metadata": {},
   "outputs": [
    {
     "name": "stdout",
     "output_type": "stream",
     "text": [
      "1\n",
      "2\n",
      "3\n",
      "4\n",
      "5\n",
      "1\n",
      "3\n",
      "5\n",
      "7\n",
      "9\n",
      "10\n",
      "9\n",
      "8\n",
      "7\n",
      "6\n",
      "5\n",
      "4\n",
      "3\n",
      "2\n",
      "1\n"
     ]
    }
   ],
   "source": [
    "for i in range(1,6):# range(1,6) generates numbers from 1 to 5\n",
    "    print(i)\n",
    "\n",
    "for i in range(1,11,2):# range(1,11,2) generates numbers from 1 to 10 with a step of 2\n",
    "    print(i) \n",
    "\n",
    "#decrementing loop\n",
    "for i in range(10,0,-1):# range(10,0,-1) generates numbers from 10 to 1\n",
    "    print(i)       "
   ]
  },
  {
   "cell_type": "code",
   "execution_count": 6,
   "id": "61426589",
   "metadata": {},
   "outputs": [
    {
     "name": "stdout",
     "output_type": "stream",
     "text": [
      "p\n",
      "r\n",
      "i\n",
      "y\n",
      "a\n"
     ]
    }
   ],
   "source": [
    "# strings\n",
    "str = \"priya\"\n",
    "for i in str:\n",
    "    print(i)"
   ]
  },
  {
   "cell_type": "code",
   "execution_count": null,
   "id": "729c0e3b",
   "metadata": {},
   "outputs": [
    {
     "name": "stdout",
     "output_type": "stream",
     "text": [
      "0\n",
      "1\n",
      "2\n",
      "3\n",
      "4\n"
     ]
    }
   ],
   "source": [
    "## while loop\n",
    "cnt = 0\n",
    "while cnt < 5:\n",
    "    print(cnt)\n",
    "    cnt+= 1 # cnt++ is not valid in python, we use cnt+=1 instead"
   ]
  },
  {
   "cell_type": "code",
   "execution_count": null,
   "id": "36fb6b16",
   "metadata": {},
   "outputs": [],
   "source": [
    "# loop control statements\n",
    "\n",
    "# break statement\n",
    "for i in range(10):\n",
    "    if i == 5:\n",
    "        break # breaks the loop when i is 5\n",
    "    print(i)"
   ]
  },
  {
   "cell_type": "code",
   "execution_count": 9,
   "id": "ca535b49",
   "metadata": {},
   "outputs": [
    {
     "name": "stdout",
     "output_type": "stream",
     "text": [
      "1\n",
      "3\n",
      "5\n",
      "7\n",
      "9\n"
     ]
    }
   ],
   "source": [
    "# continue statement\n",
    "for i in range(10):\n",
    "    if i%2==0:\n",
    "        continue\n",
    "    print(i) # prints only odd numbers"
   ]
  },
  {
   "cell_type": "code",
   "execution_count": 10,
   "id": "3791bcab",
   "metadata": {},
   "outputs": [
    {
     "name": "stdout",
     "output_type": "stream",
     "text": [
      "0\n",
      "1\n",
      "2\n",
      "3\n",
      "4\n",
      "5\n",
      "6\n",
      "7\n",
      "8\n",
      "9\n"
     ]
    }
   ],
   "source": [
    "# pass statement\n",
    "for i in range(10):\n",
    "    if i%2==0:\n",
    "        pass # does nothing, just a placeholder\n",
    "    print(i) # prints all numbers\n",
    "    "
   ]
  },
  {
   "cell_type": "code",
   "execution_count": 11,
   "id": "02a03a44",
   "metadata": {},
   "outputs": [
    {
     "name": "stdout",
     "output_type": "stream",
     "text": [
      "i=0, j=0\n",
      "i=0, j=1\n",
      "i=1, j=0\n",
      "i=1, j=1\n",
      "i=2, j=0\n",
      "i=2, j=1\n"
     ]
    }
   ],
   "source": [
    "# nested loops\n",
    "for i in range(3): # outer loop\n",
    "    for j in range(2): # inner loop\n",
    "        print(f\"i={i}, j={j}\") # f-string for formatted output"
   ]
  },
  {
   "cell_type": "code",
   "execution_count": 12,
   "id": "5b2378e6",
   "metadata": {},
   "outputs": [
    {
     "name": "stdout",
     "output_type": "stream",
     "text": [
      "Sum of first 10 natural numbers is 55\n"
     ]
    }
   ],
   "source": [
    "sum = 0\n",
    "for i in range(1,11):\n",
    "    sum = sum + i\n",
    "print(f\"Sum of first 10 natural numbers is {sum}\")    \n"
   ]
  },
  {
   "cell_type": "code",
   "execution_count": null,
   "id": "d25962c8",
   "metadata": {},
   "outputs": [
    {
     "name": "stdout",
     "output_type": "stream",
     "text": [
      "2 3 5 7 11 13 17 19 23 29 31 37 41 43 47 53 59 61 67 71 73 79 83 89 97 "
     ]
    }
   ],
   "source": [
    "import math\n",
    "# prime numbers from 1 to 100\n",
    "\n",
    "for num in range(1,101):\n",
    "    if num>1:\n",
    "        for i in range(2,num):\n",
    "            if num % i == 0:\n",
    "                break\n",
    "        else:\n",
    "            print(num, end=\" \") \n",
    "\n",
    "            # This code is inside the else block of the for loop, which means it only executes if the loop wasn't broken (i.e., num is prime).\n",
    "            "
   ]
  }
 ],
 "metadata": {
  "kernelspec": {
   "display_name": "Python 3",
   "language": "python",
   "name": "python3"
  },
  "language_info": {
   "codemirror_mode": {
    "name": "ipython",
    "version": 3
   },
   "file_extension": ".py",
   "mimetype": "text/x-python",
   "name": "python",
   "nbconvert_exporter": "python",
   "pygments_lexer": "ipython3",
   "version": "3.12.0"
  }
 },
 "nbformat": 4,
 "nbformat_minor": 5
}
