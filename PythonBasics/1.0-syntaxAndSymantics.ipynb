{
 "cells": [
  {
   "cell_type": "markdown",
   "id": "526e2838",
   "metadata": {},
   "source": [
    "\n",
    " * Syntax refers to the set of rules that defines the structure and arrangement of symbols, keywords, and punctuation in a programming language.\n",
    " * It determines how code must be written for the compiler or interpreter to understand and execute it correctly.\n",
    " * Proper syntax ensures that statements, expressions, and program constructs are formed in a way that the language expects.\n"
   ]
  },
  {
   "cell_type": "markdown",
   "id": "3e4c9519",
   "metadata": {},
   "source": [
    "**Semantics** refers to the meaning or interpretation of code in a programming language. While syntax defines how code must be written, semantics defines what that code actually does when executed. It ensures that statements and expressions behave as intended and produce the correct results. In other words, semantics is about the logic and outcome of the code, not just its structure."
   ]
  },
  {
   "cell_type": "code",
   "execution_count": 2,
   "id": "0c864f0b",
   "metadata": {},
   "outputs": [
    {
     "name": "stdout",
     "output_type": "stream",
     "text": [
      "priyanshu\n",
      "Priyanshu\n"
     ]
    }
   ],
   "source": [
    "## this is a single line comment\n",
    "''' this is a multi-line comment\n",
    "it can span multiple lines '''\n",
    "## Python is case-sensitive\n",
    "name = \"priyanshu\"\n",
    "Name = \"Priyanshu\"\n",
    "print(name)\n",
    "print(Name)"
   ]
  },
  {
   "cell_type": "code",
   "execution_count": null,
   "id": "5e72e8ca",
   "metadata": {},
   "outputs": [
    {
     "name": "stdout",
     "output_type": "stream",
     "text": [
      "36\n"
     ]
    }
   ],
   "source": [
    "#Indentation is important in Python\n",
    "## python uses indentation to define blocks of code\n",
    "age=36\n",
    "if age <18:\n",
    "    print(age) # this will not print becuase age is not less than 18\n",
    "\n",
    "print(age) # this will print because it is not indented "
   ]
  },
  {
   "cell_type": "code",
   "execution_count": 4,
   "id": "371c6138",
   "metadata": {},
   "outputs": [
    {
     "name": "stdout",
     "output_type": "stream",
     "text": [
      "9\n"
     ]
    }
   ],
   "source": [
    "# Line continuation\n",
    "# Python allows you to use a backslash (\\) to continue a line of code onto the next line.\n",
    "total = 1+2 + \\\n",
    "        3+3\n",
    "print(total)"
   ]
  },
  {
   "cell_type": "code",
   "execution_count": null,
   "id": "4b332df8",
   "metadata": {},
   "outputs": [],
   "source": [
    "# multiple statemebts on a single line\n",
    "x=4 ; y=5 ; z=7"
   ]
  },
  {
   "cell_type": "code",
   "execution_count": null,
   "id": "d9894ef2",
   "metadata": {},
   "outputs": [
    {
     "name": "stdout",
     "output_type": "stream",
     "text": [
      "<class 'int'>\n",
      "<class 'str'>\n"
     ]
    }
   ],
   "source": [
    "#type inference\n",
    "# Python is dynamically typed, meaning you don't need to declare the type of a variable when you create it.\n",
    "# The interpreter infers the type based on the value assigned to the variable.\n",
    "a =10\n",
    "print(type(a))\n",
    "a = \"name\"\n",
    "print(type(a))\n"
   ]
  }
 ],
 "metadata": {
  "kernelspec": {
   "display_name": "Python 3",
   "language": "python",
   "name": "python3"
  },
  "language_info": {
   "codemirror_mode": {
    "name": "ipython",
    "version": 3
   },
   "file_extension": ".py",
   "mimetype": "text/x-python",
   "name": "python",
   "nbconvert_exporter": "python",
   "pygments_lexer": "ipython3",
   "version": "3.12.0"
  }
 },
 "nbformat": 4,
 "nbformat_minor": 5
}
