{
 "cells": [
  {
   "cell_type": "markdown",
   "id": "2ab8c4e4",
   "metadata": {},
   "source": [
    "A list in Python is an ordered, mutable collection of items. Lists can store elements of different data types, such as numbers, strings, or even other lists. They maintain the order of insertion, allowing you to access elements by their position (index). Lists support various operations, including adding, removing, and modifying elements, as well as iterating through the items. They are commonly used for grouping related data and performing operations on sequences of items."
   ]
  },
  {
   "cell_type": "code",
   "execution_count": 1,
   "id": "513c046b",
   "metadata": {},
   "outputs": [
    {
     "name": "stdout",
     "output_type": "stream",
     "text": [
      "<class 'list'>\n",
      "[1, 'ram', 9.0, True, (1+2j)]\n"
     ]
    }
   ],
   "source": [
    "# Creating Lists\n",
    "lst = [1,\"ram\" , 9.0 , True , 1+2j]\n",
    "print(type(lst))\n",
    "print(lst)"
   ]
  },
  {
   "cell_type": "code",
   "execution_count": null,
   "id": "ab13d2f1",
   "metadata": {},
   "outputs": [
    {
     "name": "stdout",
     "output_type": "stream",
     "text": [
      "banana\n",
      "mango\n",
      "['cherry', 'orange', 'kiwi']\n",
      "['cherry', 'orange', 'kiwi', 'melon', 'mango']\n",
      "['apple', 'banana', 'cherry']\n",
      "['kiwi', 'melon']\n"
     ]
    }
   ],
   "source": [
    "# Accessing Elements in a List\n",
    "fruits = [\"apple\", \"banana\", \"cherry\", \"orange\", \"kiwi\", \"melon\", \"mango\"]\n",
    "print(fruits[1]) # Accessing the second element\n",
    "print(fruits[-1]) # Accessing the last element\n",
    "print(fruits[2:5]) # Accessing a slice of the list from index 2 to 4\n",
    "print(fruits[2:]) # Accessing a slice of the list from index 2 to the end\n",
    "print(fruits[:3]) # Accessing a slice of the list from the start to index 2\n",
    "print(fruits[-3:-1]) # Accessing a slice of the list from the third last to the second last element"
   ]
  },
  {
   "cell_type": "code",
   "execution_count": null,
   "id": "e616dcb5",
   "metadata": {},
   "outputs": [],
   "source": [
    "# Modifying Elements in a List\n",
    "fruits[1] = \"blueberry\" # Changing the second element"
   ]
  },
  {
   "cell_type": "markdown",
   "id": "ee1ac1dc",
   "metadata": {},
   "source": [
    "## List Methods"
   ]
  },
  {
   "cell_type": "code",
   "execution_count": 6,
   "id": "f882aff8",
   "metadata": {},
   "outputs": [
    {
     "name": "stdout",
     "output_type": "stream",
     "text": [
      "['apple', 'banana', 'cherry', 'orange', 'kiwi', 'melon', 'mango', 'grape']\n"
     ]
    }
   ],
   "source": [
    "fruits.append(\"grape\") # Adding an element to the end of the list\n",
    "print(fruits) "
   ]
  },
  {
   "cell_type": "code",
   "execution_count": 7,
   "id": "a39212dc",
   "metadata": {},
   "outputs": [
    {
     "name": "stdout",
     "output_type": "stream",
     "text": [
      "['apple', 'banana', 'cherry', 'orange', 'melon', 'mango', 'grape']\n"
     ]
    }
   ],
   "source": [
    "fruits.remove(\"kiwi\") # Removing the first occurence of an element from the list\n",
    "print(fruits)"
   ]
  },
  {
   "cell_type": "code",
   "execution_count": 8,
   "id": "35346e75",
   "metadata": {},
   "outputs": [
    {
     "name": "stdout",
     "output_type": "stream",
     "text": [
      "['apple', 'strawberry', 'banana', 'cherry', 'orange', 'melon', 'mango', 'grape']\n"
     ]
    }
   ],
   "source": [
    "fruits.insert(1,\"strawberry\") # Inserting an element at a specific index\n",
    "print(fruits)"
   ]
  },
  {
   "cell_type": "code",
   "execution_count": null,
   "id": "1d16e0f6",
   "metadata": {},
   "outputs": [
    {
     "name": "stdout",
     "output_type": "stream",
     "text": [
      "['apple', 'strawberry', 'banana', 'cherry', 'orange', 'melon']\n",
      "mango\n"
     ]
    }
   ],
   "source": [
    "popped_fruit = fruits.pop() # Removing and returning the last element from the list\n",
    "print(fruits)\n",
    "print(popped_fruit) # Printing the removed element"
   ]
  },
  {
   "cell_type": "code",
   "execution_count": 11,
   "id": "1ba3a41c",
   "metadata": {},
   "outputs": [
    {
     "name": "stdout",
     "output_type": "stream",
     "text": [
      "2\n"
     ]
    }
   ],
   "source": [
    "index = fruits.index(\"banana\") # Finding the index of an element\n",
    "print(index)"
   ]
  },
  {
   "cell_type": "code",
   "execution_count": 16,
   "id": "57cce1f4",
   "metadata": {},
   "outputs": [
    {
     "data": {
      "text/plain": [
       "1"
      ]
     },
     "execution_count": 16,
     "metadata": {},
     "output_type": "execute_result"
    }
   ],
   "source": [
    "fruits.count(\"banana\") # Counting the occurrences of an element\n"
   ]
  },
  {
   "cell_type": "code",
   "execution_count": 17,
   "id": "81555e36",
   "metadata": {},
   "outputs": [
    {
     "name": "stdout",
     "output_type": "stream",
     "text": [
      "['apple', 'banana', 'cherry', 'melon', 'orange', 'strawberry']\n"
     ]
    }
   ],
   "source": [
    "fruits.sort() # Sorting the list in ascending order\n",
    "print(fruits)"
   ]
  },
  {
   "cell_type": "code",
   "execution_count": 18,
   "id": "508ce1f2",
   "metadata": {},
   "outputs": [
    {
     "name": "stdout",
     "output_type": "stream",
     "text": [
      "['strawberry', 'orange', 'melon', 'cherry', 'banana', 'apple']\n"
     ]
    }
   ],
   "source": [
    "fruits.reverse() # Reversing the order of the list\n",
    "print(fruits)"
   ]
  },
  {
   "cell_type": "code",
   "execution_count": 19,
   "id": "0545ce35",
   "metadata": {},
   "outputs": [
    {
     "name": "stdout",
     "output_type": "stream",
     "text": [
      "[]\n"
     ]
    }
   ],
   "source": [
    "fruits.clear() # Removing all elements from the list\n",
    "print(fruits) # Printing the empty list"
   ]
  },
  {
   "cell_type": "markdown",
   "id": "ff730610",
   "metadata": {},
   "source": [
    "## Slicing Lists"
   ]
  },
  {
   "cell_type": "code",
   "execution_count": 21,
   "id": "57f943b8",
   "metadata": {},
   "outputs": [
    {
     "name": "stdout",
     "output_type": "stream",
     "text": [
      "[3, 4, 5]\n",
      "[1, 2, 3]\n",
      "[6, 7, 8, 9, 10]\n",
      "[1, 3, 5, 7, 9]\n",
      "[10, 9, 8, 7, 6, 5, 4, 3, 2, 1]\n"
     ]
    }
   ],
   "source": [
    "numbers = [1, 2, 3, 4, 5 ,6 ,7,8,9,10]\n",
    "# Slicing Lists\n",
    "print(numbers[2:5]) # Accessing elements from index 2 to 4\n",
    "print(numbers[:3]) # Accessing elements from the start to index 2\n",
    "print(numbers[5:]) # Accessing elements from index 5 to the end\n",
    "print(numbers[::2]) # Accessing every second element\n",
    "print(numbers[::-1]) # Reversing the list using slicing"
   ]
  },
  {
   "cell_type": "markdown",
   "id": "3d85b7ff",
   "metadata": {},
   "source": [
    "## Iterating over lists"
   ]
  },
  {
   "cell_type": "code",
   "execution_count": 22,
   "id": "b8c71936",
   "metadata": {},
   "outputs": [
    {
     "name": "stdout",
     "output_type": "stream",
     "text": [
      "1\n",
      "2\n",
      "3\n",
      "4\n",
      "5\n",
      "6\n",
      "7\n",
      "8\n",
      "9\n",
      "10\n"
     ]
    }
   ],
   "source": [
    "for num in numbers:\n",
    "    print(num) # Iterating over the list and printing each element"
   ]
  },
  {
   "cell_type": "code",
   "execution_count": 25,
   "id": "605b1e40",
   "metadata": {},
   "outputs": [
    {
     "name": "stdout",
     "output_type": "stream",
     "text": [
      "0 1\n",
      "1 2\n",
      "2 3\n",
      "3 4\n",
      "4 5\n",
      "5 6\n",
      "6 7\n",
      "7 8\n",
      "8 9\n",
      "9 10\n"
     ]
    }
   ],
   "source": [
    "# Iterating with Index\n",
    "for index,num in enumerate(numbers): # Enumerating over the list\n",
    "    # This will give you both the index and the value of each element\n",
    "    print(index , num)"
   ]
  },
  {
   "cell_type": "markdown",
   "id": "af69db6b",
   "metadata": {},
   "source": [
    "## List Comprehension in Python\n",
    "\n",
    "List comprehension provides a concise way to create lists in Python. It allows you to generate a new list by applying an expression to each item in an existing iterable (like a list or range), optionally including a condition.\n",
    "\n",
    "**Syntax:**\n",
    "```python\n",
    "new_list = [expression for item in iterable if condition]\n",
    "```\n",
    "\n",
    "List comprehensions are more readable and efficient than using traditional loops for creating lists."
   ]
  },
  {
   "cell_type": "code",
   "execution_count": 26,
   "id": "236269bb",
   "metadata": {},
   "outputs": [
    {
     "name": "stdout",
     "output_type": "stream",
     "text": [
      "[0, 4, 16, 36, 64]\n"
     ]
    }
   ],
   "source": [
    "square = [x**2 for x in range(10) if x % 2 == 0] # List comprehension to create a list of squares of even numbers]\n",
    "print(square) # Printing the list of squares of even numbers"
   ]
  },
  {
   "cell_type": "markdown",
   "id": "cfb02e05",
   "metadata": {},
   "source": [
    "### Nested List Comprehension in Python\n",
    "\n",
    "Nested list comprehensions allow you to create complex lists by including one list comprehension inside another. This is especially useful for working with multi-dimensional data, such as matrices.\n",
    "\n",
    "Nested list comprehensions are powerful for transforming and processing multi-dimensional data efficiently.\n",
    "\n",
    "**Syntax:**\n",
    "```python\n",
    "nested_list = [[expression for item in iterable] for iterable in outer_iterable]\n",
    "```"
   ]
  },
  {
   "cell_type": "code",
   "execution_count": 28,
   "id": "6f69f22f",
   "metadata": {},
   "outputs": [
    {
     "name": "stdout",
     "output_type": "stream",
     "text": [
      "[[1, 'a'], [1, 'b'], [1, 'c'], [1, 'd'], [1, 'e'], [2, 'a'], [2, 'b'], [2, 'c'], [2, 'd'], [2, 'e'], [3, 'a'], [3, 'b'], [3, 'c'], [3, 'd'], [3, 'e'], [4, 'a'], [4, 'b'], [4, 'c'], [4, 'd'], [4, 'e'], [5, 'a'], [5, 'b'], [5, 'c'], [5, 'd'], [5, 'e']]\n"
     ]
    }
   ],
   "source": [
    "list1 = [1,2,3,4,5]\n",
    "list2 = [\"a\",\"b\",\"c\",\"d\",\"e\"]\n",
    "pairs =  [[i,j] for i in list1 for j in list2] # Nested list comprehension to create pairs of elements from two lists\n",
    "print(pairs) # Printing the list of pairs"
   ]
  },
  {
   "cell_type": "code",
   "execution_count": 29,
   "id": "5ed08162",
   "metadata": {},
   "outputs": [
    {
     "name": "stdout",
     "output_type": "stream",
     "text": [
      "[5, 6, 6, 6, 4, 5, 5]\n"
     ]
    }
   ],
   "source": [
    "#functional comprehension\n",
    "fruits = [\"apple\", \"banana\", \"cherry\", \"orange\", \"kiwi\", \"melon\", \"mango\"]\n",
    "fruit_lengths = [len(fruit) for fruit in fruits]  # List comprehension to get the lengths of each fruit\n",
    "print(fruit_lengths)  # Printing the list of fruit lengths"
   ]
  }
 ],
 "metadata": {
  "kernelspec": {
   "display_name": "Python 3",
   "language": "python",
   "name": "python3"
  },
  "language_info": {
   "codemirror_mode": {
    "name": "ipython",
    "version": 3
   },
   "file_extension": ".py",
   "mimetype": "text/x-python",
   "name": "python",
   "nbconvert_exporter": "python",
   "pygments_lexer": "ipython3",
   "version": "3.12.0"
  }
 },
 "nbformat": 4,
 "nbformat_minor": 5
}
