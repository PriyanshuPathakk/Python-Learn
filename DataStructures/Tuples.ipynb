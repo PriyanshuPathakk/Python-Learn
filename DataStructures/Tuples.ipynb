{
 "cells": [
  {
   "cell_type": "markdown",
   "id": "64664b47",
   "metadata": {},
   "source": [
    "\n",
    "# Tuples in Python\n",
    "\n",
    "Tuples are an ordered and immutable collection of items. Immutable means that once a tuple is created, it cannot be changed. Tuples are similar to lists but the key difference is that tuples are immutable and therefore cannot be changed after they are created.\n",
    "\n",
    "Tuples are defined by enclosing the elements in parentheses `()` and separated by commas `,`. Tuples can contain any type of element, including strings, integers, floats, and other tuples.\n",
    "\n",
    "For example, the following is a tuple:\n",
    "\n",
    "`my_tuple = (1, 2, 3, 4, 5)`\n",
    "\n",
    "Tuples are useful when you need an ordered and unchangeable collection of elements. They are also useful when you want to ensure that a collection of elements is not modified accidentally."
   ]
  },
  {
   "cell_type": "code",
   "execution_count": null,
   "id": "63811c01",
   "metadata": {},
   "outputs": [
    {
     "name": "stdout",
     "output_type": "stream",
     "text": [
      "<class 'tuple'>\n",
      "<class 'tuple'>\n",
      "() ()\n"
     ]
    }
   ],
   "source": [
    "# creating a tuple\n",
    "empty_tuple = ()\n",
    "empty_tuple1 = tuple()\n",
    "mixed_tuple = (1, 2.5, \"Hello\", True)\n",
    "# creating a tuple with one element\n",
    "single_element_tuple = (1,) # note the comma to differentiate from a regular parenthesis\n",
    "print(type(empty_tuple))\n",
    "print(type(empty_tuple1))\n",
    "print(empty_tuple,empty_tuple1)"
   ]
  },
  {
   "cell_type": "code",
   "execution_count": 3,
   "id": "f7fc9fb3",
   "metadata": {},
   "outputs": [
    {
     "name": "stdout",
     "output_type": "stream",
     "text": [
      "(1, 2, 3, 4, 5)\n",
      "[1, 2, 3, 4, 5]\n"
     ]
    }
   ],
   "source": [
    "# interconverting between list and tuple\n",
    "# converting list to tuple\n",
    "list1 = tuple([1, 2, 3, 4, 5])\n",
    "# converting tuple to list\n",
    "tuple1 = list((1, 2, 3, 4, 5))\n",
    "print(list1)\n",
    "print(tuple1)"
   ]
  },
  {
   "cell_type": "code",
   "execution_count": null,
   "id": "f54ee4d6",
   "metadata": {},
   "outputs": [
    {
     "data": {
      "text/plain": [
       "(1, 2, 3)"
      ]
     },
     "execution_count": 9,
     "metadata": {},
     "output_type": "execute_result"
    }
   ],
   "source": [
    "# accessing elements in a tuple\n",
    "tpl = (1,2,3,4,5,6,7,8,9,10)\n",
    "tpl[0] # first element\n",
    "tpl[0:3]    # first three elements\n",
    "tpl[::-1] # reverse the tuple\n"
   ]
  },
  {
   "cell_type": "code",
   "execution_count": null,
   "id": "bf466d85",
   "metadata": {},
   "outputs": [
    {
     "name": "stdout",
     "output_type": "stream",
     "text": [
      "(1, 2, 3, 4, 5, 6, 7, 8, 9, 10, 1, 2.5, 'Hello', True)\n"
     ]
    },
    {
     "data": {
      "text/plain": [
       "(1, 2.5, 'Hello', True, 1, 2.5, 'Hello', True, 1, 2.5, 'Hello', True)"
      ]
     },
     "execution_count": 12,
     "metadata": {},
     "output_type": "execute_result"
    }
   ],
   "source": [
    "# concatenating tuples\n",
    "mixed_tuple = (1, 2.5, \"Hello\", True)\n",
    "concatenated_tuple = tpl + mixed_tuple\n",
    "print(concatenated_tuple)\n",
    "\n",
    "# repating tuples\n",
    "mixed_tuple*3 # repeat the tuple three times"
   ]
  },
  {
   "cell_type": "code",
   "execution_count": null,
   "id": "6256f49f",
   "metadata": {},
   "outputs": [],
   "source": [
    "# immutability of tuples\n",
    "# tuples are immutable, meaning you cannot change their elements\n",
    "# mixed_tuple[0] = 100 # this will raise a TypeError"
   ]
  },
  {
   "cell_type": "code",
   "execution_count": 20,
   "id": "5b4e8c01",
   "metadata": {},
   "outputs": [
    {
     "name": "stdout",
     "output_type": "stream",
     "text": [
      "1\n",
      "2\n"
     ]
    }
   ],
   "source": [
    "# Tuple methods\n",
    "mixed_tuple = (1, 2.5, \"Hello\", True)\n",
    "print(mixed_tuple.count(\"Hello\")) # count occurrences of an element # True is also counted as 1\n",
    "print(mixed_tuple.index(\"Hello\")) # find the first occuring index of an element\n"
   ]
  },
  {
   "cell_type": "code",
   "execution_count": 22,
   "id": "0722d4ab",
   "metadata": {},
   "outputs": [
    {
     "name": "stdout",
     "output_type": "stream",
     "text": [
      "(1, 2.5, 7, 'hello')\n"
     ]
    }
   ],
   "source": [
    "# Packing a Tuple\n",
    "packed_tuple = 1 , 2.5 , 7 , \"hello\"\n",
    "print(packed_tuple)"
   ]
  },
  {
   "cell_type": "code",
   "execution_count": 23,
   "id": "6388718e",
   "metadata": {},
   "outputs": [
    {
     "name": "stdout",
     "output_type": "stream",
     "text": [
      "1 2.5 7 hello\n"
     ]
    }
   ],
   "source": [
    "# Unpacking a tuple\n",
    "a , b , c , d = packed_tuple\n",
    "print(a, b, c, d)"
   ]
  },
  {
   "cell_type": "code",
   "execution_count": 27,
   "id": "8093bb45",
   "metadata": {},
   "outputs": [
    {
     "name": "stdout",
     "output_type": "stream",
     "text": [
      "1 [2.5, 7] hello\n"
     ]
    }
   ],
   "source": [
    "# Unpacking with *\n",
    "first , *middle , last = packed_tuple\n",
    "print(first, middle, last)"
   ]
  },
  {
   "cell_type": "code",
   "execution_count": 29,
   "id": "6e6f9b61",
   "metadata": {},
   "outputs": [
    {
     "name": "stdout",
     "output_type": "stream",
     "text": [
      "(3, 4)\n"
     ]
    },
    {
     "data": {
      "text/plain": [
       "3"
      ]
     },
     "execution_count": 29,
     "metadata": {},
     "output_type": "execute_result"
    }
   ],
   "source": [
    "# Nested Tuples\n",
    "nested_tuple = (1, 2, (3, 4), (5, 6))\n",
    "print(nested_tuple[2]) # Accessing the nested tuple (3, 4)\n",
    "nested_tuple[2][0] # Accessing an element in the nested tuple (3, 4)"
   ]
  },
  {
   "cell_type": "code",
   "execution_count": null,
   "id": "8cfc74c8",
   "metadata": {},
   "outputs": [
    {
     "data": {
      "text/plain": [
       "3"
      ]
     },
     "execution_count": 30,
     "metadata": {},
     "output_type": "execute_result"
    }
   ],
   "source": [
    "# nested lists\n",
    "nested_list = [1, 2, [3, 4], [5, 6]]\n",
    "print(nested_list[2]) # Accessing the nested list [3, 4]\n",
    "nested_list[2][0] # Accessing an element in the nested list [3, 4]"
   ]
  }
 ],
 "metadata": {
  "kernelspec": {
   "display_name": "Python 3",
   "language": "python",
   "name": "python3"
  },
  "language_info": {
   "codemirror_mode": {
    "name": "ipython",
    "version": 3
   },
   "file_extension": ".py",
   "mimetype": "text/x-python",
   "name": "python",
   "nbconvert_exporter": "python",
   "pygments_lexer": "ipython3",
   "version": "3.12.0"
  }
 },
 "nbformat": 4,
 "nbformat_minor": 5
}
